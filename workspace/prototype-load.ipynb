{
 "cells": [
  {
   "cell_type": "code",
   "execution_count": 1,
   "id": "769ec58d-c932-4ca3-b314-51c7cb6ece4a",
   "metadata": {},
   "outputs": [],
   "source": [
    "import json\n",
    "import ipaddress\n",
    "\n",
    "from pyspark.sql import SparkSession\n",
    "from pyspark.sql.functions import (col, lit, max as colmax, min as colmin, split, concat, date_format,\n",
    "                                   to_timestamp, to_date, regexp_extract, when, udf, size)\n",
    "from pyspark.sql.types import StructType, StructField, IntegerType\n",
    "from datetime import datetime, timedelta\n",
    "from dateutils import relativedelta\n",
    "from delta import DeltaTable, configure_spark_with_delta_pip"
   ]
  },
  {
   "cell_type": "code",
   "execution_count": 3,
   "id": "a37a46d1-37e4-4f12-99fe-383e8da45455",
   "metadata": {},
   "outputs": [],
   "source": [
    "builder = (\n",
    "    SparkSession\n",
    "    .builder\n",
    "    .master(\"spark://spark-master:7077\")\n",
    "    .config(\"spark.jars\", \"/jars/postgresql-42.5.0.jar,/jars/delta-core_2.12-1.0.0.jar\")\n",
    "    .config(\"spark.sql.warehouse.dir\", \"/mnt/warehouse\")\n",
    "    .config(\"spark.sql.extensions\", \"io.delta.sql.DeltaSparkSessionExtension\") \n",
    "    .config(\"spark.sql.catalog.spark_catalog\", \"org.apache.spark.sql.delta.catalog.DeltaCatalog\")\n",
    ")\n",
    "    \n",
    "spark = configure_spark_with_delta_pip(builder).getOrCreate()"
   ]
  },
  {
   "cell_type": "code",
   "execution_count": 4,
   "id": "6358fcc9-ee33-474f-98a6-86d62eee8041",
   "metadata": {},
   "outputs": [],
   "source": [
    "last_year = (datetime.today() - relativedelta(years = 1)).year"
   ]
  },
  {
   "cell_type": "code",
   "execution_count": 8,
   "id": "2e18c34d-94eb-4b59-a1ae-8fb401a90c13",
   "metadata": {},
   "outputs": [
    {
     "name": "stderr",
     "output_type": "stream",
     "text": [
      "                                                                                \r"
     ]
    }
   ],
   "source": [
    "path = \"/mnt/g_layer/sales\"\n",
    "\n",
    "df_sells = (\n",
    "    spark\n",
    "    .read\n",
    "    .format(\"delta\")\n",
    "    .load(path)\n",
    "    .filter(col(\"year_partition\") == last_year)\n",
    ")\n",
    "\n",
    "(\n",
    "    df_sells\n",
    "    .write\n",
    "    .format(\"jdbc\")\n",
    "    .option(\"url\", \"jdbc:postgresql://postgres-datamart/datamart\")\n",
    "    .option(\"driver\", \"org.postgresql.Driver\")\n",
    "    .option(\"dbtable\", \"last_year_orders\")\n",
    "    .option(\"user\", \"docker\")\n",
    "    .option(\"password\", \"docker\")\n",
    "    .save()\n",
    ")"
   ]
  },
  {
   "cell_type": "code",
   "execution_count": 10,
   "id": "72b106c6-98cd-42c7-b191-ae1fadd5d7e6",
   "metadata": {},
   "outputs": [
    {
     "name": "stderr",
     "output_type": "stream",
     "text": [
      "                                                                                \r"
     ]
    }
   ],
   "source": [
    "path = \"/mnt/g_layer/devices\"\n",
    "\n",
    "df_sells = (\n",
    "    spark\n",
    "    .read\n",
    "    .format(\"delta\")\n",
    "    .load(path)\n",
    ")\n",
    "\n",
    "(\n",
    "    df_sells\n",
    "    .write\n",
    "    .format(\"jdbc\")\n",
    "    .option(\"url\", \"jdbc:postgresql://postgres-datamart/datamart\")\n",
    "    .option(\"driver\", \"org.postgresql.Driver\")\n",
    "    .option(\"dbtable\", \"order_devices\")\n",
    "    .option(\"user\", \"docker\")\n",
    "    .option(\"password\", \"docker\")\n",
    "    .save()\n",
    ")"
   ]
  },
  {
   "cell_type": "code",
   "execution_count": 11,
   "id": "25f69137-aa73-4f78-8856-7847b6d45f5b",
   "metadata": {},
   "outputs": [
    {
     "name": "stderr",
     "output_type": "stream",
     "text": [
      "                                                                                \r"
     ]
    }
   ],
   "source": [
    "path = \"/mnt/g_layer/products\"\n",
    "\n",
    "df_sells = (\n",
    "    spark\n",
    "    .read\n",
    "    .format(\"delta\")\n",
    "    .load(path)\n",
    ")\n",
    "\n",
    "(\n",
    "    df_sells\n",
    "    .write\n",
    "    .format(\"jdbc\")\n",
    "    .option(\"url\", \"jdbc:postgresql://postgres-datamart/datamart\")\n",
    "    .option(\"driver\", \"org.postgresql.Driver\")\n",
    "    .option(\"dbtable\", \"popular_products\")\n",
    "    .option(\"user\", \"docker\")\n",
    "    .option(\"password\", \"docker\")\n",
    "    .save()\n",
    ")"
   ]
  },
  {
   "cell_type": "code",
   "execution_count": 12,
   "id": "9a0673f6-9788-49cf-bfc1-caa4240cf861",
   "metadata": {},
   "outputs": [],
   "source": [
    "spark.stop()"
   ]
  },
  {
   "cell_type": "code",
   "execution_count": null,
   "id": "d9e3b1e2-116a-44f8-b939-c9241aa0520a",
   "metadata": {},
   "outputs": [],
   "source": []
  }
 ],
 "metadata": {
  "kernelspec": {
   "display_name": "Python 3 (ipykernel)",
   "language": "python",
   "name": "python3"
  },
  "language_info": {
   "codemirror_mode": {
    "name": "ipython",
    "version": 3
   },
   "file_extension": ".py",
   "mimetype": "text/x-python",
   "name": "python",
   "nbconvert_exporter": "python",
   "pygments_lexer": "ipython3",
   "version": "3.9.2"
  }
 },
 "nbformat": 4,
 "nbformat_minor": 5
}
